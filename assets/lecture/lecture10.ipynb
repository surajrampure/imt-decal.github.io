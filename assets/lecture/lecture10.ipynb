{
 "cells": [
  {
   "cell_type": "code",
   "execution_count": null,
   "metadata": {},
   "outputs": [],
   "source": [
    "import numpy as np\n",
    "import matplotlib.pyplot as plt\n",
    "%matplotlib inline"
   ]
  },
  {
   "cell_type": "markdown",
   "metadata": {},
   "source": [
    "# Lecture 10: Polynomial Interpolation\n",
    "\n",
    "### Introduction to Mathematical Thinking\n",
    "##### November 14, 2018\n",
    "###### Suraj Rampure"
   ]
  },
  {
   "cell_type": "markdown",
   "metadata": {},
   "source": [
    "# Announcements\n",
    "- Today's lecture: Two interesting topics that you'll see again in future classes, that build upon the material we've seen in this class. Using an iPython notebook since we'll be implementing things in code! Hopefully this material will overlap with what you've seen in courses like CS 61A.\n",
    "- Homework 10 won't be due, instead it will be meant for your own practice for the final. Not ready yet, but will be ready in the next few days. _Some of the material from today's class will be in Homework 10, and will also be on the final!_\n",
    "- **No class at all next week**. The final is in two weeks from today, in class. Our final meeting before then will be on Monday, November 26th.\n",
    "- By early next week, your total # of points in this class will be determined."
   ]
  },
  {
   "cell_type": "markdown",
   "metadata": {},
   "source": [
    "## Polynomial Interpolation"
   ]
  },
  {
   "cell_type": "markdown",
   "metadata": {},
   "source": [
    "The first key feature is that **a polynomial of degree $n$ is uniquely determined by a set of $n+1$ points**. Consider our situation in two dimensions:\n",
    "- Given any two points, there is exactly one line that passes through them\n",
    "- Given just one point, there are infinitely many lines passing through it\n",
    "\n",
    "For example, there is only one line that passes through $(1, 4)$ and $(3, 10)$: it is the line $y = 3x + 1$. We can then say that $y = 3x + 1$ and $\\{ (1, 4), (3, 10) \\}$ are equivalent representations of the same function. The first is in the regular, standard form you're used to, and the latter is in **point representation**."
   ]
  },
  {
   "cell_type": "markdown",
   "metadata": {},
   "source": [
    "### Here, we see the only degree 1 polynomial, $y = 3x + 1$, that passes through the points $(1, 4)$ and $(3, 10)$."
   ]
  },
  {
   "cell_type": "code",
   "execution_count": null,
   "metadata": {},
   "outputs": [],
   "source": [
    "x = np.linspace(-0, 4)\n",
    "y = 3 * x + 1\n",
    "plt.plot(x, y);\n",
    "plt.scatter([1, 3], [4, 10], color='r');"
   ]
  },
  {
   "cell_type": "markdown",
   "metadata": {},
   "source": [
    "### Here, we see 3 (of infinitely many) degree 2 polynomials that all pass through the points $(0, 4)$ and $(3, 13)$."
   ]
  },
  {
   "cell_type": "code",
   "execution_count": null,
   "metadata": {},
   "outputs": [],
   "source": [
    "x = np.linspace(-3, 6)\n",
    "y1 = 2*x**2 - 3*x + 4\n",
    "y2 = x**2 + 4\n",
    "y3 = -2*x**2 + 9*x + 4\n",
    "plt.plot(x, y1);\n",
    "plt.plot(x, y2);\n",
    "plt.plot(x, y3);\n",
    "plt.scatter([0, 3], [4, 13], color='red');\n",
    "plt.ylim(-20, 20);"
   ]
  },
  {
   "cell_type": "markdown",
   "metadata": {},
   "source": [
    "We can easily convert between standard form and the point representation - given some degree $n$ polynomial, we can plug in $n+1$ points into it and record the $n+1$ pairs $(x_i, y_i)$ and call this our point representation. The question you may be asking, though, is how can we do the opposite - **how can we find the standard form of a polynomial given the point representation, without repeated guessing and checking?**\n",
    "\n",
    "For the 2 point, linear polynomial case, this is simple. We first calculate $m = \\frac{\\Delta y} {\\Delta x} = \\frac{10 - 4}{3 - 1} = 3$, and substitute either point into the relationship $y = 3x + b$ to solve for $b$.\n",
    "\n",
    "This doesn't generalize well to polynomials of $n$ degree. "
   ]
  },
  {
   "cell_type": "markdown",
   "metadata": {},
   "source": [
    "## Interpolation – The Naive Approach"
   ]
  },
  {
   "cell_type": "markdown",
   "metadata": {},
   "source": [
    "Suppose we're given five points, $$S = \\{(0, -1), (1, 0), (2, -11), (3, 2), (4, 99)\\}$$ <br> Since we know that we're searching for a degree 4 polynomial, we could create $p(x) = ax^4 + bx^3 + cx^2 + dx + e$. Substituting each of the five points into $p(x)$ would give us a solvable system of 5 equations and 5 unknowns. These equations would be as follows:\n",
    "\n",
    "<br>\n",
    "\n",
    "<div align=center>\n",
    "\n",
    "$$a(0)^4 + b(0)^3 + c(0)^2 + d(0) + e = -1\\\\\\ a(1)^4 + b(1)^3 + c(1)^2 + d(1) + e = 0\\\\\\ a(2)^4 + b(2)^3 + c(2)^2 + d(2) + e = -11\\\\\\ a(3)^4 + b(3)^3 + c(3)^2 + d(3) + e = 2\\\\\\ a(4)^4 + b(4)^3 + c(4)^2 + d(4) + e = 99$$\n",
    "\n",
    "</div> \n",
    "\n",
    "<br>\n",
    "\n",
    "However, solving this system of equations and unknowns would take quite some time. <br><br>\n",
    "\n",
    "<div align=center> <img src=\"https://i.kym-cdn.com/photos/images/original/000/284/529/e65.gif\" alt=\"no-time\" width=\"300\"/> </div>\n",
    "\n",
    "Luckily, there exists a more intuitive way to construct $p(x)$. Since there is only one such degree 4 polynomial that passes through these five points, both methods should (and do) result in the same $p(x)$.\n",
    "\n"
   ]
  },
  {
   "cell_type": "markdown",
   "metadata": {},
   "source": [
    "### Lagrange Interpolation\n",
    "\n",
    "Instead of trying to create $p(x)$ at once, let's try and create five smaller polynomials, that we can then sum to create $p(x)$. For each provided point $(x_i, y_i)$, $(x_1, y_1)$ being the first point we were given, we want to craft a sub-polynomial $p_{i}$ with the following properties:\n",
    "\n",
    "-   $p_i(x_i) = 1$\n",
    "\n",
    "-   $p_i(x_j) = 0,  \\forall \\: j \\neq i$\n",
    "\n",
    "In other words, sub-polynomial $i$ should evaluate to 1 if $x_i$ is passed in, and to 0 if any of the other four $x_j$s are passed in (we will see why this structure is important very soon). We can create such a sub-polynomial, for each $I$, as follows:\n",
    "\n",
    "<br>\n",
    "\n",
    "<div align=center>\n",
    "\n",
    "$$\n",
    "p_{i}(x) = \\frac{\\Pi_{j \\neq i} (x - x_j)}{\\Pi_{j \\neq i} (x_i - x_j)}\n",
    "$$\n",
    "\n",
    "</div>\n",
    "\n",
    "<br>\n",
    "\n",
    "For clarity, let's calculate $p_1(x)$ and $p_3(x)$. Recall, we had $S = \\{(0, -1), (1, 0), (2, -11), (3, 2), (4, 99)\\}$, meaning that $(x_1, y_1) = (0, -1)$ and $(x_3, y_3) = (2, -11)$.\n",
    "\n",
    "<br>\n",
    "\n",
    "<div align=center>\n",
    "$$\n",
    "p_1(x) = \\frac{\\Pi_{j \\neq 1}(x - x_j)}{\\Pi_{j \\neq 1}(0 - x_j)} = \\frac{(x-1)(x-2)(x-3)(x-4)}{(0-1)(0-2)(0-3)(0-4)} = \\frac{1}{24}(x-1)(x-2)(x-3)(x-4)$$\n",
    "\n",
    "<br>\n",
    "$$p_3(x) = \\frac{\\Pi_{j \\neq 3}(x - x_j)}{\\Pi_{j \\neq 3}(0 - x_j)} = \\frac{(x-0)(x-1)(x-3)(x-4)}{(2-0)(2-1)(2-3)(2-4)} = \\frac{1}{4}(x)(x-1)(x-3)(x-4)\n",
    "$$\n",
    "</div>\n",
    "\n",
    "<br>\n",
    "\n",
    "The second-to-last step of the above expansions best illustrate why we've chosen to craft our sub-polynomials in this way; if we were to evaluate $p_1(0)$, the numerator and denominator would be exactly the same. If we were to instead evaluate $p_1(1), p_1(2), p_1(3)$ or $p_1(4)$, since $x-1, x-2, x-3, x-4$ are all factors of the numerator the result would be 0."
   ]
  },
  {
   "cell_type": "markdown",
   "metadata": {},
   "source": [
    "We're almost done. We can now say that our final polynomial $p(x)$ is constructed as follows:\n",
    "\n",
    "<br>\n",
    "\n",
    "<div align=center>\n",
    "$$\n",
    "p(x) = \\sum_{i = 1}^n y_i p_i(x)\n",
    "$$\n",
    "</div>\n",
    "\n",
    "<br>\n",
    "\n",
    "This is where the $y$ values of each of the given points come into play. Looking at our example more closely, we have:\n",
    "\n",
    "<br>\n",
    "\n",
    "<div align=center>\n",
    "$$\n",
    "p(x) = -p_1(x) + 0p_2(x) -11p_3(x) + 2p_4(x) + 99p_5(x)\n",
    "$$\n",
    "</div>\n",
    "\n",
    "<br>\n",
    "\n",
    "From the way each $p_i(x)$ was constructed, $p(0) = (-1) \\cdot 1  + 0 \\cdot 0 + (-11) \\cdot 0 + 2 \\cdot 0 + 99 \\cdot 0 = -1$, and so on and so forth, as we expected. Doing the arithmetic yields the original polynomial, $p(x) = x^4 - 13x^2 + 13x - 1$."
   ]
  },
  {
   "cell_type": "code",
   "execution_count": null,
   "metadata": {},
   "outputs": [],
   "source": [
    "x = np.linspace(-1, 6)\n",
    "y = x**4 - 13*x**2 + 13*x - 1\n",
    "plt.scatter([0, 1, 2, 3, 4], [-1, 0, -11, 2, 99], color='r')\n",
    "plt.plot(x, y);\n",
    "plt.ylim(-40, 200);"
   ]
  },
  {
   "cell_type": "markdown",
   "metadata": {},
   "source": [
    "## Implementing Lagrange Interpolation in Code"
   ]
  },
  {
   "cell_type": "markdown",
   "metadata": {},
   "source": [
    "Let's write a (higher-order) function in Python that will allow us to take a set of points $S$ and return the polynomial that interpolates it."
   ]
  },
  {
   "cell_type": "code",
   "execution_count": null,
   "metadata": {},
   "outputs": [],
   "source": [
    "def sub_polynomial(S, i):\n",
    "    def f(x):\n",
    "        num, den = 1, 1\n",
    "        for p in range(len(S)):\n",
    "            if p != i:\n",
    "                num *= (x - S[p][0])\n",
    "                den *= (S[i][0] - S[p][0])\n",
    "        return num / den\n",
    "    return f\n",
    "\n",
    "def interpolate(S):\n",
    "    def f(x):\n",
    "        return sum([S[i][1] * sub_polynomial(S, i)(x) for i in range(len(S))])\n",
    "    return f"
   ]
  },
  {
   "cell_type": "markdown",
   "metadata": {},
   "source": [
    "Our function `sub_polynomial` creates the $p_i(x)$ functions that we saw earlier. `interpolate` puts all of this together. Let's test out `interpolate` with the same set `S` we saw before."
   ]
  },
  {
   "cell_type": "code",
   "execution_count": null,
   "metadata": {
    "scrolled": false
   },
   "outputs": [],
   "source": [
    "S = [(0, -1), (1, 0), (2, -11), (3, 2), (4, 99)]\n",
    "x = np.linspace(-2, 6, 1000)\n",
    "y = [interpolate(S)(i) for i in x]\n",
    "plt.scatter([s[0] for s in S], [s[1] for s in S], color='r')\n",
    "plt.plot(x, y);\n",
    "plt.ylim(-40, 200);"
   ]
  },
  {
   "cell_type": "markdown",
   "metadata": {},
   "source": [
    "Now, let's write a function that interpolates and plots any arbitrary set."
   ]
  },
  {
   "cell_type": "code",
   "execution_count": null,
   "metadata": {},
   "outputs": [],
   "source": [
    "def interpolate_and_plot(S):\n",
    "    xs = [s[0] for s in S]\n",
    "    ys = [s[1] for s in S]\n",
    "    \n",
    "    f = interpolate(S)\n",
    "    \n",
    "    x = np.linspace(min(xs) - 1, max(xs) + 1, 1000)\n",
    "    y = [f(i) for i in x]\n",
    "    \n",
    "    plt.scatter(xs, ys, color='r');\n",
    "    plt.plot(x, y);"
   ]
  },
  {
   "cell_type": "code",
   "execution_count": null,
   "metadata": {
    "scrolled": true
   },
   "outputs": [],
   "source": [
    "#interpolate_and_plot([(100, 2), (102, 10), (103, -3)])\n",
    "interpolate_and_plot([(-5, 2), (1, 5), (2, 17)])"
   ]
  },
  {
   "cell_type": "markdown",
   "metadata": {},
   "source": [
    "Neat! Notice what happens when we pass in $S = \\{ (1, 3), (2, 4), (3, 5) \\}$."
   ]
  },
  {
   "cell_type": "code",
   "execution_count": null,
   "metadata": {},
   "outputs": [],
   "source": [
    "interpolate_and_plot([(1, 3), (2, 4), (3, 5)])"
   ]
  },
  {
   "cell_type": "markdown",
   "metadata": {},
   "source": [
    "Here, we passed in 3 points, so we'd expect the degree of our polynomial to be 2. However, it turns out that these three points were _colinear_, meaning they all lie on the same line. The $x^2$ term cancelled out in Lagrange Interpolation."
   ]
  },
  {
   "cell_type": "markdown",
   "metadata": {},
   "source": [
    "<br>\n",
    "\n",
    "## Modular Arithmetic... with Polynomials?\n",
    "\n",
    "<br>\n",
    "\n",
    "<div align=center> <img src=\"https://i.kym-cdn.com/photos/images/original/001/353/197/8cb.png\" alt=\"no-time\" width=\"300\"/> </div>"
   ]
  },
  {
   "cell_type": "markdown",
   "metadata": {},
   "source": [
    "### Now, let's combine our knowledge of polynomial interpolation with modular arithmetic.\n",
    "\n",
    "Recall, when we dealt with arithmetic $\\text{mod } m$, we said that all integers reduced to an integer in the set $\\{0, 1, 2, ... , p - 1\\}$. The modular inverse of $a$ in $\\text{mod } m$ only exists when $\\text{gcd}(a, m) = 1$. If we wanted some modular base $m$ such that an inverse exists for every $a$, we needed that $m$ was prime.\n",
    "\n",
    "Now, suppose we want to find the polynomial that interpolates a set of points $S$, but we consider all points and polynomials to be reduced $\\text{mod } m$ (also meaning that we're only looking at integers). **The main reason we'd ever do this is if we want to restrict our inputs and outputs to be in the set $\\{0, 1, 2, ..., m-1 \\}$**.\n",
    "\n",
    "For example, suppose we want to interpolate the polynomial passing through $(1, 3), (2, 5)$ and $(4, 2)$, under $\\text{mod } 7$.\n",
    "\n",
    "Let's start by creating our subpolynomial $p_1(x)$.\n",
    "\n",
    "$$p_1(x) = \\frac{(x-2)(x-4)}{(1-2)(1-4)} = \\frac{x^2 - 6x + 8}{3} = \\frac{1}{3} (x^2 - 6x + 8)$$\n",
    "\n",
    "Notice any problems? **We can't divide by 3**. Instead, we replace $\\frac{1}{3}$ with the _inverse of 3 in $\\text{mod } 7$_. You can verify that $3^{-1} \\equiv 5 \\: (\\text{mod } 7)$. To simplify things, we can also rewrite $-6x$ as $+x$, and $8$ as $1$. Then, we have\n",
    "\n",
    "$$p_1(x) = 5(x^2 + x + 1)$$\n",
    "\n",
    "Also,\n",
    "\n",
    "$$p_2(x) = \\frac{(x-1)(x-4)}{(2-1)(2-4)} = \\frac{x^2 - 5x + 4}{-2} = 3(x^2 - 5x + 4)$$\n",
    "\n",
    "We rewrite $(-2)^{-1}$ as $5^{-1}$, which is equivalent to $3$ in $\\text{mod } 7$.\n",
    "\n",
    "$$p_3(x) = \\frac{(x-1)(x-2)}{(4-1)(4-2)} = \\frac{x^2 - 3x + 2}{6} = 6(x^2 - 3x + 2)$$"
   ]
  },
  {
   "cell_type": "markdown",
   "metadata": {},
   "source": [
    "Putting all of this together - we have\n",
    "\n",
    "$$p(x) = 3p_1(x) + 5p_2(x) + 2p_3(x)$$\n",
    "$$= 15(x^2 + x + 1) + 15(x^2 - 5x + 4) + 12(x^2 - 3x + 2)$$\n",
    "\n",
    "We see that $15 \\equiv 1 \\: (\\text{mod } 7)$, which greatly simplifies our calculations. $12 \\equiv 5 \\: (\\text{mod } 7)$, but we can also say $12 \\equiv -2 \\: (\\text{mod } 7)$. We choose to rewrite $12$ as $-2$ as it will allow us to cancel all $x^2$ terms. \n",
    "\n",
    "$$p(x) = x^2 + x + 1 + x^2 - 5x + 4 + -2(x^2 - 3x + 2)$$\n",
    "$$= x + 1 - 5x + 4 + 6x - 4$$\n",
    "$$= \\boxed{2x + 1}$$\n",
    "\n",
    "We see that $p(x) = 2x + 1$. This $p(x)$ **is not the same as the $p(x)$ we'd find by doing standard Lagrange Interpolation** – using standard, non-modular interpolation, we'd find a polynomial of degree 2, as we have three points that are not colinear. However, working under $\\text{mod } 7$ simplifies our functions; this $p(x)$ is equivalent to the standard Langrange interpolation $p(x)$ for **integer inputs** $\\{0, 1, 2, 3, 4, 5, 6\\}$ under $\\text{mod } 7$.\n",
    "\n",
    "For non-integer inputs, our simplified $p(x)$ is not equivalent to the standard non-modular interpolated $p(x)$ we would find without using $\\text{mod } 7$."
   ]
  },
  {
   "cell_type": "code",
   "execution_count": null,
   "metadata": {},
   "outputs": [],
   "source": [
    "# This assumes that there is a unique inverse. This will work for our purposes.\n",
    "def inverse(a, m):\n",
    "    for i in range(m):\n",
    "        if (a * i) % m == 1:\n",
    "            return i\n",
    "    return \"error\""
   ]
  },
  {
   "cell_type": "code",
   "execution_count": null,
   "metadata": {},
   "outputs": [],
   "source": [
    "def sub_polynomial_mod(S, i, m):\n",
    "    def f(x):\n",
    "        num, den = 1, 1\n",
    "        for p in range(len(S)):\n",
    "            if p != i:\n",
    "                num *= (x - S[p][0]) % m\n",
    "                den *= (S[i][0] - S[p][0]) % m\n",
    "        return num * inverse(den, m) % m\n",
    "    return f\n",
    "\n",
    "def interpolate_mod(S, m):\n",
    "    def f(x):\n",
    "        return round(sum([S[i][1] * sub_polynomial_mod(S, i, m)(x) for i in range(len(S))]) % m)\n",
    "    return f"
   ]
  },
  {
   "cell_type": "code",
   "execution_count": null,
   "metadata": {},
   "outputs": [],
   "source": [
    "def interpolate_and_plot_mod(S, m):\n",
    "    xs = [s[0] for s in S]\n",
    "    ys = [s[1] for s in S]\n",
    "    \n",
    "    f = interpolate_mod(S, m)\n",
    "    \n",
    "    x = np.arange(min(xs) - 2, max(xs) + 2) # Need to use integer only inputs\n",
    "    y = [f(i) for i in x]\n",
    "    \n",
    "    plt.scatter(xs, ys, color='r');\n",
    "    plt.plot(x, y);"
   ]
  },
  {
   "cell_type": "code",
   "execution_count": null,
   "metadata": {},
   "outputs": [],
   "source": [
    "interpolate_and_plot_mod([(1, 3), (2, 5), (4, 2)], 7)\n",
    "interpolate_and_plot([(1, 3), (2, 5), (4, 2)])\n",
    "\n",
    "# For fun, we'll also plot y = 2x + 1\n",
    "\n",
    "xs = np.linspace(-1, 5)\n",
    "ys = 2*xs + 1\n",
    "plt.plot(xs, ys)"
   ]
  },
  {
   "cell_type": "code",
   "execution_count": null,
   "metadata": {},
   "outputs": [],
   "source": [
    "f = interpolate([(1, 3), (2, 5), (4, 2)])\n",
    "g = interpolate_mod([(1, 3), (2, 5), (4, 2)], 7)\n",
    "\n",
    "for i in range(7):\n",
    "    print(f(i), g(i))"
   ]
  },
  {
   "cell_type": "markdown",
   "metadata": {},
   "source": [
    "## An Application of Polynomial Interpolation and Modular Arithmetic – Error Correcting Codes"
   ]
  },
  {
   "cell_type": "markdown",
   "metadata": {},
   "source": [
    "We now have the tools to tackle the following problem.\n",
    "\n",
    "Suppose I want to text you a message, but I know (for whatever reason) that one of the characters in my message will be deleted. For example, suppose I want to text you **BAD**; the message you end up receiving could be **_AD** or **B_D** or **BA_**.\n",
    "\n",
    "How do we proceed? \n",
    "\n",
    "It turns out we can interpolate the polynomial that passes through our original message, and send one extra character! Since we know one character is going to be dropped, if we send one extra character, we should be able to recover our original message.\n",
    "\n",
    "Let's pretend \"A\" corresponds to 0, \"B\" corresponds to 1, \"C\" corresponds to 2, and so on and so forth. Note, this means that we have no interpretation of any number greater than 25, or any non-integer. **This means we need to reduce our polynomials, modulo some integer.** \n",
    "\n",
    "Furthermore, the modular base we choose _needs to be prime_, because we need every integer to have an inverse in it. (Think about the denominators of our $p_i(x)$ polynomials.) For that reason, we'll choose $m = 29$, because it is the smallest prime number that is larger than 26. If we instead restricted our alphabet to just be the first five letters, for example, we could choose $m = 7$.\n",
    "\n",
    "First we'll define a function to convert a message into points."
   ]
  },
  {
   "cell_type": "code",
   "execution_count": null,
   "metadata": {
    "scrolled": true
   },
   "outputs": [],
   "source": [
    "alpha = \"ABCDEFGHIJKLMNOPQRSTUVWXYZ\"\n",
    "MOD = 29\n",
    "\n",
    "def message_to_points(message):\n",
    "    points = []\n",
    "    for i in range(len(message)):\n",
    "        if message[i] != \" \":\n",
    "            points.append((i, alpha.index(message[i].upper())))\n",
    "    return points\n",
    "\n",
    "message_to_points('BAD')"
   ]
  },
  {
   "cell_type": "markdown",
   "metadata": {},
   "source": [
    "Cool. Now, given our point representation, we need to find one more point so that we can send an extra character to combat the loss."
   ]
  },
  {
   "cell_type": "code",
   "execution_count": null,
   "metadata": {},
   "outputs": [],
   "source": [
    "def find_extra_character(message):\n",
    "    f = interpolate_mod(message_to_points(message), MOD) # Finds the interpolating polynomial\n",
    "    alphabet_index = round(f(len(message))) # We know we will be adding a character at the end\n",
    "    return message + alpha[alphabet_index]\n",
    "\n",
    "find_extra_character('BAD')"
   ]
  },
  {
   "cell_type": "markdown",
   "metadata": {},
   "source": [
    "We'll also define a function that takes a message and randomly deletes a single character."
   ]
  },
  {
   "cell_type": "code",
   "execution_count": null,
   "metadata": {},
   "outputs": [],
   "source": [
    "def delete_character(message):\n",
    "    i = np.random.randint(len(message))\n",
    "    message = message[:i] + \" \" + message[i+1:]\n",
    "    return message\n",
    "\n",
    "delete_character(find_extra_character('BAD'))"
   ]
  },
  {
   "cell_type": "markdown",
   "metadata": {},
   "source": [
    "Lastly, we need the ability to recover a missing character. Let's write that. (Notice that when we defined `message_to_points`, we considered the possibility that a certain character was empty.)\n",
    "\n",
    "Additionally, once we do that, we know our original message is everything except the last character. This means we can chop off the last character before returning it in the following function."
   ]
  },
  {
   "cell_type": "code",
   "execution_count": null,
   "metadata": {},
   "outputs": [],
   "source": [
    "def recover_message(message):\n",
    "    f = interpolate_mod(message_to_points(message), MOD)\n",
    "    for i in range(len(message)):\n",
    "        if message[i] == \" \":\n",
    "            missing_index = i\n",
    "            break\n",
    "    missing_char = alpha[round(f(missing_index))]\n",
    "    return (message[:missing_index] + missing_char + message[missing_index+1:])[:-1]"
   ]
  },
  {
   "cell_type": "markdown",
   "metadata": {},
   "source": [
    "Just to see if it works, let's try recovering a character on all four possible erasures of BAD."
   ]
  },
  {
   "cell_type": "code",
   "execution_count": null,
   "metadata": {},
   "outputs": [],
   "source": [
    "messages = [\"BAD \", \"BA K\", \"B DK\", \" ADK\"]\n",
    "for message in messages:\n",
    "    print(recover_message(message))"
   ]
  },
  {
   "cell_type": "markdown",
   "metadata": {},
   "source": [
    "Now, we can do the whole process.\n",
    "\n",
    "- Start off with a message we want to send.\n",
    "- Convert our message to points, and interpolate the polynomial that passes through it.\n",
    "- Find one extra character and append it to our message.\n",
    "- Send our message, knowing one character will be erased.\n",
    "- The receiver can receive the message, interpolate the polynomial again and find the character at the missing index.\n",
    "\n",
    "We can encapsulate this behavior into two functions, `send` and `receive`."
   ]
  },
  {
   "cell_type": "code",
   "execution_count": null,
   "metadata": {},
   "outputs": [],
   "source": [
    "def send(message):\n",
    "    extended_message = find_extra_character(message)\n",
    "    dropped_message = delete_character(extended_message)\n",
    "    return dropped_message\n",
    "\n",
    "def receive(message):\n",
    "    return recover_message(message)"
   ]
  },
  {
   "cell_type": "code",
   "execution_count": null,
   "metadata": {},
   "outputs": [],
   "source": [
    "receive(send('BAD'))"
   ]
  },
  {
   "cell_type": "code",
   "execution_count": null,
   "metadata": {},
   "outputs": [],
   "source": [
    "sent = send('GORILLA')\n",
    "sent"
   ]
  },
  {
   "cell_type": "code",
   "execution_count": null,
   "metadata": {},
   "outputs": [],
   "source": [
    "received = receive(sent)\n",
    "received"
   ]
  },
  {
   "cell_type": "code",
   "execution_count": null,
   "metadata": {},
   "outputs": [],
   "source": []
  }
 ],
 "metadata": {
  "kernelspec": {
   "display_name": "Python 3",
   "language": "python",
   "name": "python3"
  },
  "language_info": {
   "codemirror_mode": {
    "name": "ipython",
    "version": 3
   },
   "file_extension": ".py",
   "mimetype": "text/x-python",
   "name": "python",
   "nbconvert_exporter": "python",
   "pygments_lexer": "ipython3",
   "version": "3.6.1"
  }
 },
 "nbformat": 4,
 "nbformat_minor": 2
}
